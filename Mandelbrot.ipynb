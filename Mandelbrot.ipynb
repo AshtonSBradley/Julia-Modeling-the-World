{
 "metadata": {
  "language": "Julia",
  "name": ""
 },
 "nbformat": 3,
 "nbformat_minor": 0,
 "worksheets": [
  {
   "cells": [
    {
     "cell_type": "markdown",
     "metadata": {},
     "source": [
      "# Mandelbrot Set\n",
      "by [Paulo Marques](http://pmarques.eu), 2014/03/01\n",
      "\n",
      "---\n",
      "\n",
      "This notebook shows how to implement and visualize the [Mandelbrot Set](http://en.wikipedia.org/wiki/Mandelbrot_set) in Julia. The Mandelbrot set is a very well known and beautiful fractal discovered in the 70s. It was named after Benoit Mandelbrot, a well-known mathematician. The first images of this object were computed in 1978.\n",
      "\n",
      "![](https://raw.github.com/pjpmarques/Modelling-the-World/master/imgs/Mandel_1978.png)\n",
      "\n",
      "Let's do it in Julia.\n",
      "\n",
      "----"
     ]
    },
    {
     "cell_type": "markdown",
     "metadata": {},
     "source": [
      "The basic idea behind the Mandelbrot set is that you have a 2D plane that represents an image. Each point of that plane is a complex number $z = x + y i$. Now, suppose what happens if, for each point $c$ in the plane, you iterate over and over calculating a new number as follows:\n",
      "\n",
      "$$ z_{n+1} \\gets z_{n}^2 + c$$"
     ]
    },
    {
     "cell_type": "markdown",
     "metadata": {},
     "source": [
      "In this formula $z_0 = 0$ and $c$ is the point in the plane you are looking at. \n",
      "\n",
      "In this situation, two different things can happen. As the number of iterations advances either $\\|z\\|$ tends to infinity or it tends to 0. Mathematicaly, points where it tends to zero, are part of the set and are colored black. Points that tend to infinity are not part of the set and are colored white. \n",
      "\n",
      "Since in a computer you cannot iterate an infinite number of times, typically you put a bound on how many times you do this calculation. Also, you can use the \"how fast\" $\\|z\\|$ is going to infinity to color the set much more nicely. You can also check if $z$ is going to infinity just by comparing $\\|z\\|$ with 2. If it has grown that big, it certainly is not part of the set.\n",
      "\n",
      "So, for a point $c$, lets define a function `mandel_pt()` that tells us the number of iterations that point is taking to diverge to infinity. (Note: points that are truly inside the set will take `MAX_ITER` iterations. We will map those to zero as it makes for nicer colors.)"
     ]
    },
    {
     "cell_type": "code",
     "collapsed": false,
     "input": [
      "# Returns the number of iterations a points takes to go to infite on a mandelbrot set\n",
      "function mandel_pt(c, MAX_ITER=100)\n",
      "    iter = 0\n",
      "    z    = 0\n",
      "    while (iter < MAX_ITER)\n",
      "        z = z^2 + c\n",
      "        iter+= 1\n",
      "        if abs(z) > 2.0\n",
      "            return iter\n",
      "        end\n",
      "    end\n",
      "    0\n",
      "end;"
     ],
     "language": "python",
     "metadata": {},
     "outputs": []
    },
    {
     "cell_type": "markdown",
     "metadata": {},
     "source": [
      "Now we want to define a function that for a rectangle of pixels, representing the complex plane that goes from $z_{min}$ to $z_{max}$, calculates the corresponding image. I.e., we are going to map all the points in that rectangle to a color, using `mandel_it()`, returning the corresponding image."
     ]
    },
    {
     "cell_type": "code",
     "collapsed": false,
     "input": [
      "# Return the Mandelbrot set by mapping each point to the corresponding number of iterations\n",
      "mandel(zmin, zmax, resolution=1000) =\n",
      "    [ mandel_pt(complex(j, i)) for i=linspace(zmin.im, zmax.im, resolution), j=linspace(zmin.re, zmax.re, resolution) ];"
     ],
     "language": "python",
     "metadata": {},
     "outputs": []
    },
    {
     "cell_type": "markdown",
     "metadata": {},
     "source": [
      "We are all set! Let's calculate it:"
     ]
    },
    {
     "cell_type": "code",
     "collapsed": false,
     "input": [
      "# The complex plane to map\n",
      "(zmin, zmax) = (-2.2-1.5im, +1.2+1.5im)\n",
      "\n",
      "# The Mandelbrot set\n",
      "mandel_set = mandel(zmin, zmax);"
     ],
     "language": "python",
     "metadata": {},
     "outputs": [],
     "prompt_number": "*"
    },
    {
     "cell_type": "markdown",
     "metadata": {},
     "source": [
      "Finally, we can plot it."
     ]
    },
    {
     "cell_type": "code",
     "collapsed": false,
     "input": [
      "# import basic library\n",
      "using PyPlot;\n",
      "\n",
      "# Auxiliary function to map the complex rectagle to an array\n",
      "to_extent(zmin, zmax) = [zmin.re, zmax.re, zmin.im, zmax.im]\n",
      "\n",
      "# Plot it\n",
      "axis(\"off\")\n",
      "imshow(mandel_set, extent=to_extent(zmin, zmax));"
     ],
     "language": "python",
     "metadata": {},
     "outputs": [],
     "prompt_number": "*"
    },
    {
     "cell_type": "markdown",
     "metadata": {},
     "source": [
      "There's another type of fractals called Julia. In fact, the formula is very similar to Mandelbrot but whereas $z_0 = c$ and $c$ was the point of the plane you were looking at, you can make $c$ be a generic complex constant and $z_0$ just be the point. Let's modify the program to reflect this."
     ]
    },
    {
     "cell_type": "code",
     "collapsed": false,
     "input": [
      "# Returns the number of iterations a points takes to go to infite on a julia set\n",
      "function julia_pt(z, c, MAX_ITER=100)\n",
      "    iter = 0\n",
      "    while (iter < MAX_ITER)\n",
      "        if abs(z) > 2.0\n",
      "            return iter\n",
      "        end\n",
      "        z = z^2 + c\n",
      "        iter+= 1\n",
      "    end\n",
      "    0\n",
      "end;"
     ],
     "language": "python",
     "metadata": {},
     "outputs": [],
     "prompt_number": "*"
    },
    {
     "cell_type": "code",
     "collapsed": false,
     "input": [
      "# Returns a Julia Set\n",
      "julia(zmin, zmax, c, resolution=1000) =\n",
      "    [ julia_pt(complex(j, i), c) for i=linspace(zmin.im, zmax.im, resolution), j=linspace(zmin.re, zmax.re, resolution)];"
     ],
     "language": "python",
     "metadata": {},
     "outputs": [],
     "prompt_number": "*"
    },
    {
     "cell_type": "markdown",
     "metadata": {},
     "source": [
      "We are all set (again). Let's calculate a bunch of Julia Sets."
     ]
    },
    {
     "cell_type": "code",
     "collapsed": false,
     "input": [
      "# The complex plane to map\n",
      "(zmin, zmax) = (-1.5-1.5im, +1.5+1.5im)\n",
      "\n",
      "# Constants to explore\n",
      "c_explore = [-0.04+0.66im, 0.285+0.01im, 0.8+0.14im, -0.8+0.156im]\n",
      "\n",
      "julias = [ julia(zmin, zmax, c) for c=c_explore ];"
     ],
     "language": "python",
     "metadata": {},
     "outputs": [],
     "prompt_number": "*"
    },
    {
     "cell_type": "markdown",
     "metadata": {},
     "source": [
      "And plot them."
     ]
    },
    {
     "cell_type": "code",
     "collapsed": false,
     "input": [
      "n_lines = int(ceil(length(c_explore)/2))\n",
      "fig, ax = subplots(n_lines, 2, figsize=figsize=(10, 10))\n",
      "ext     = to_extent(zmin, zmax)\n",
      "\n",
      "for i=1:length(ax)\n",
      "    ax[i][:axis](\"off\")\n",
      "\n",
      "    if i<=length(c_explore)\n",
      "        ax[i][:imshow](julias[i], extent=ext)\n",
      "    end\n",
      "end"
     ],
     "language": "python",
     "metadata": {},
     "outputs": [],
     "prompt_number": "*"
    },
    {
     "cell_type": "markdown",
     "metadata": {},
     "source": [
      "That's all folks."
     ]
    },
    {
     "cell_type": "markdown",
     "metadata": {},
     "source": [
      "---\n",
      "\n",
      "# MIT LICENSE\n",
      "\n",
      "> Copyright (C) 2014 Paulo Marques (pjp.marques@gmail.com)\n",
      ">\n",
      "> Permission is hereby granted, free of charge, to any person obtaining a copy of \n",
      "> this software and associated documentation files (the \"Software\"), to deal in\n",
      "> the Software without restriction, including without limitation the rights to\n",
      "> use, copy, modify, merge, publish, distribute, sublicense, and/or sell copies of\n",
      "> the Software, and to permit persons to whom the Software is furnished to do so,\n",
      "> subject to the following conditions:\n",
      ">  \n",
      "> The above copyright notice and this permission notice shall be included in all \n",
      "> copies or substantial portions of the Software.\n",
      "> \n",
      "> THE SOFTWARE IS PROVIDED \"AS IS\", WITHOUT WARRANTY OF ANY KIND, EXPRESS OR\n",
      "> IMPLIED, INCLUDING BUT NOT LIMITED TO THE WARRANTIES OF MERCHANTABILITY, FITNESS\n",
      "> FOR A PARTICULAR PURPOSE AND NONINFRINGEMENT. IN NO EVENT SHALL THE AUTHORS OR\n",
      "> COPYRIGHT HOLDERS BE LIABLE FOR ANY CLAIM, DAMAGES OR OTHER LIABILITY, WHETHER\n",
      "> IN AN ACTION OF CONTRACT, TORT OR OTHERWISE, ARISING FROM, OUT OF OR IN \n",
      "> CONNECTION WITH THE SOFTWARE OR THE USE OR OTHER DEALINGS IN THE SOFTWARE."
     ]
    }
   ],
   "metadata": {}
  }
 ]
}
