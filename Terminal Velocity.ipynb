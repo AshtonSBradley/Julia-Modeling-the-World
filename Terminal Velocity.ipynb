{
 "metadata": {
  "language": "Julia",
  "name": ""
 },
 "nbformat": 3,
 "nbformat_minor": 0,
 "worksheets": [
  {
   "cells": [
    {
     "cell_type": "markdown",
     "metadata": {},
     "source": [
      "# Terminal Velocity\n",
      "by [Paulo Marques](http://pmarques.eu), 2014/02/27\n",
      "\n",
      "---\n",
      "\n",
      "This notebook discusses the <a href=\"http://en.wikipedia.org/wiki/Drag_(physics)\">drag forces</a> exerted on a body when traveling through air. It's also done in [Julia](julialang.org) so that I can better understand the potencial of the language.\n",
      "\n",
      "![](http://upload.wikimedia.org/wikipedia/en/8/89/Parachuters_in_hybrid_formation.jpg)  \n",
      "\n",
      "---"
     ]
    },
    {
     "cell_type": "markdown",
     "metadata": {},
     "source": [
      "A falling body is subject to two forces: a downward force, $\\vec{F_g}$, due to gravity, and an upward force $\\vec{F_a}$, due to air resistance. Let's consider a body with mass $m$. Assuming an upward oriented YY axis, the following applies:\n",
      "\n",
      "$$ F_g = - g \\cdot m $$\n",
      "\n",
      "$$ F_a = - sgn(v) \\cdot {1 \\over 2} \\rho C_D A v^2 $$\n",
      "\n",
      "In these formulas, $m$ is the mass of the body, $\\rho$ is the density of air ($\\approx 1.2 Kg/m^3$), $g$ is the accelaration of gravity ($\\approx 9.8 m/s^2$), $v$ is the velocity of the body, $C_D$ is the drag coeficient of the body and $A$ is its cross-section area. $sgn(x)$ is the sign function that given a number returns +1 for positives and -1 for negatives. In the formula it makes the force always contrary to the movement of the body.\n",
      "\n",
      "Thus, the resulting force $\\vec{F}$ experienced by the body is:\n",
      "\n",
      "$$ F = - g \\cdot m - sgn(v) \\cdot {1 \\over 2} \\rho C_D A v^2 $$\n",
      "\n",
      "Given that force is directly related to accelaration, and accelaration to velocity:\n",
      "\n",
      "$$ v = \\frac{dy}{dt} $$\n",
      "\n",
      "$$ F = m \\cdot \\frac{dv}{dt} $$\n",
      "\n",
      "substituting, we get this differencial equation:\n",
      "\n",
      "$$ m \\cdot \\frac{dv}{dt} = - g \\cdot m - sgn(v) \\cdot {1 \\over 2} \\rho C_D A v^2 $$\n",
      "\n",
      "In fact, this can be expressed as a system of differential equations in the form ${\\bf f}' = {\\bf g}({\\bf f}, t)$:\n",
      "\n",
      "$$ \\begin{cases} \\frac{dy}{dt} = v \\\\\\\\ \\frac{dv}{dt} = -g - sgn(v) \\cdot {1 \\over 2} {\\rho \\over m} C_D A v^2 \\end{cases} $$\n",
      "\n",
      "---\n",
      "\n",
      "So, let's simulate this with Julia.\n",
      "\n",
      "Let's start by importing some basic libraries:"
     ]
    },
    {
     "cell_type": "code",
     "collapsed": false,
     "input": [
      "using PyPlot\n",
      "using ODE;"
     ],
     "language": "julia",
     "metadata": {},
     "outputs": [
      {
       "output_type": "stream",
       "stream": "stdout",
       "text": [
        "Loading help data...\n"
       ]
      }
     ]
    },
    {
     "cell_type": "markdown",
     "metadata": {},
     "source": [
      "We now define the initial conditions and constants of the problem."
     ]
    },
    {
     "cell_type": "code",
     "collapsed": false,
     "input": [
      "# Constants \n",
      "g  = 9.8                # Accelaration of gravity\n",
      "p  = 1.2                # Density of air\n",
      "\n",
      "# Caracteristics of the problem\n",
      "m  = 0.100              # A 100 g ball\n",
      "r  = 0.10               # 10 cm radius\n",
      "Cd = 0.5                # Drag coeficient for a small spherical object\n",
      "y0 = 1000.0             # Initial height of the body (1000 m)\n",
      "v0 = 10.0               # Initial velocity of the body (10 m/s^2, going up)\n",
      "A  = pi*r^2;            # Cross-section area of the body;"
     ],
     "language": "julia",
     "metadata": {},
     "outputs": []
    },
    {
     "cell_type": "markdown",
     "metadata": {},
     "source": [
      "As said, let's define a system of ordinary differential equations in its normal form ${\\bf f}' = {\\bf g}({\\bf f}, t)$. (In the code bellow we substitute $g()$ for $gm()$ so that it doesn't clash with the acceleration of gravity constant - $g$). Note that $f$ is an $R^2$ function containing $y$ and $y'$ (and $v = y'$). "
     ]
    },
    {
     "cell_type": "code",
     "collapsed": false,
     "input": [
      "function gm(t, f)\n",
      "    (y, v) = f                                          # Extract y and v (i.e., dy/dt) from the f mapping\n",
      "    \n",
      "    dy_dt = v                                           # The differential equations\n",
      "    dv_dt = -1.0*g - sign(v)*(1./2.)*(p/m)*Cd*A*v^2.0\n",
      "    \n",
      "    [dy_dt, dv_dt]                                      # Return the derivatives\n",
      "end;"
     ],
     "language": "julia",
     "metadata": {},
     "outputs": []
    },
    {
     "cell_type": "markdown",
     "metadata": {},
     "source": [
      "Let's define the conditions to numerically solve the problem, including a time vector:"
     ]
    },
    {
     "cell_type": "code",
     "collapsed": false,
     "input": [
      "# Initial conditions (position and velocity)\n",
      "start = [y0, v0]\n",
      "\n",
      "# Time vector (from 0 to 5 secs)\n",
      "tf = 5.0 \n",
      "dt = 0.001\n",
      "t  = [0:dt:tf];"
     ],
     "language": "julia",
     "metadata": {},
     "outputs": []
    },
    {
     "cell_type": "markdown",
     "metadata": {},
     "source": [
      "Now let's solve the equations numericaly and extract the corresponding $y(t)$ and $v(t)$:"
     ]
    },
    {
     "cell_type": "code",
     "collapsed": false,
     "input": [
      "(t, f) = ode23(gm, t, start)\n",
      "\n",
      "y = f[:, 1]\n",
      "v = f[:, 2];"
     ],
     "language": "julia",
     "metadata": {},
     "outputs": []
    },
    {
     "cell_type": "markdown",
     "metadata": {},
     "source": [
      "Finally, we can plot the solution."
     ]
    },
    {
     "cell_type": "code",
     "collapsed": false,
     "input": [
      "fig, ax = subplots(1, 2, sharex=true, figsize=(10,4))\n",
      "\n",
      "ax[1][:plot](t, v)\n",
      "ax[1][:set_title](\"Velocity over time\");\n",
      "ax[1][:set_xlabel](\"Time (sec)\")\n",
      "ax[1][:set_ylabel](\"Velocity (m/sec)\")\n",
      "\n",
      "ax[2][:plot](t, y)\n",
      "ax[2][:set_title](\"Height over time\");\n",
      "ax[2][:set_xlabel](\"Time (sec)\")\n",
      "ax[2][:set_ylabel](\"Height (m)\");\n"
     ],
     "language": "julia",
     "metadata": {},
     "outputs": [
      {
       "metadata": {},
       "output_type": "display_data",
       "png": "[encoded data removed]",
       "text": [
        "Figure(PyObject <matplotlib.figure.Figure object at 0x10c719e50>)"
       ]
      }
     ]
    },
    {
     "cell_type": "markdown",
     "metadata": {},
     "source": [
      "As you can see, the velocity starts at 10 $m/s^2$, with the ball going up. Its velocity starts decreasing, goes to zero at max height, and then becomes negative as the ball starts coming down. After a while it reaches its maximum speed: terminal velocity. "
     ]
    },
    {
     "cell_type": "markdown",
     "metadata": {},
     "source": [
      "The theorerically [terminal velocity](http://en.wikipedia.org/wiki/Terminal_velocity), $V_t$, is:\n",
      "\n",
      "$$ V_t = \\sqrt{\\frac{2 m g}{\\rho A C_D}} $$\n",
      "\n",
      "Calculating it is easy enough:"
     ]
    },
    {
     "cell_type": "code",
     "collapsed": false,
     "input": [
      "vt = sqrt( (2.0*m*g) / (p*A*Cd) )"
     ],
     "language": "julia",
     "metadata": {},
     "outputs": [
      {
       "metadata": {},
       "output_type": "pyout",
       "prompt_number": 1,
       "text": [
        "10.197118685526071"
       ]
      }
     ],
     "prompt_number": 1
    },
    {
     "cell_type": "markdown",
     "metadata": {},
     "source": [
      "Now, with our numerical simulation, the terminal velocity is:"
     ]
    },
    {
     "cell_type": "code",
     "collapsed": false,
     "input": [
      "# The terminal velocity\n",
      "vt_numeric = abs(minimum(v))"
     ],
     "language": "julia",
     "metadata": {},
     "outputs": [
      {
       "metadata": {},
       "output_type": "pyout",
       "prompt_number": 2,
       "text": [
        "10.190775225692548"
       ]
      }
     ],
     "prompt_number": 2
    },
    {
     "cell_type": "markdown",
     "metadata": {},
     "source": [
      "Now, that's what I call pretty neat!"
     ]
    },
    {
     "cell_type": "markdown",
     "metadata": {},
     "source": [
      "---\n",
      "\n",
      "# MIT LICENSE\n",
      "\n",
      "> Copyright (C) 2014 Paulo Marques (pjp.marques@gmail.com)\n",
      ">\n",
      "> Permission is hereby granted, free of charge, to any person obtaining a copy of \n",
      "> this software and associated documentation files (the \"Software\"), to deal in\n",
      "> the Software without restriction, including without limitation the rights to\n",
      "> use, copy, modify, merge, publish, distribute, sublicense, and/or sell copies of\n",
      "> the Software, and to permit persons to whom the Software is furnished to do so,\n",
      "> subject to the following conditions:\n",
      ">  \n",
      "> The above copyright notice and this permission notice shall be included in all \n",
      "> copies or substantial portions of the Software.\n",
      "> \n",
      "> THE SOFTWARE IS PROVIDED \"AS IS\", WITHOUT WARRANTY OF ANY KIND, EXPRESS OR\n",
      "> IMPLIED, INCLUDING BUT NOT LIMITED TO THE WARRANTIES OF MERCHANTABILITY, FITNESS\n",
      "> FOR A PARTICULAR PURPOSE AND NONINFRINGEMENT. IN NO EVENT SHALL THE AUTHORS OR\n",
      "> COPYRIGHT HOLDERS BE LIABLE FOR ANY CLAIM, DAMAGES OR OTHER LIABILITY, WHETHER\n",
      "> IN AN ACTION OF CONTRACT, TORT OR OTHERWISE, ARISING FROM, OUT OF OR IN \n",
      "> CONNECTION WITH THE SOFTWARE OR THE USE OR OTHER DEALINGS IN THE SOFTWARE."
     ]
    }
   ],
   "metadata": {}
  }
 ]
}